{
 "cells": [
  {
   "cell_type": "code",
   "execution_count": 7,
   "metadata": {},
   "outputs": [
    {
     "name": "stdout",
     "output_type": "stream",
     "text": [
      "            DATE DCOILWTICO\n",
      "0     1986-01-02      25.56\n",
      "1     1986-01-03      26.00\n",
      "2     1986-01-06      26.53\n",
      "3     1986-01-07      25.85\n",
      "4     1986-01-08      25.87\n",
      "...          ...        ...\n",
      "8923  2020-03-17          .\n",
      "8924  2020-03-18      26.96\n",
      "8925  2020-03-19      20.48\n",
      "8926  2020-03-20      25.09\n",
      "8927  2020-03-23      19.48\n",
      "\n",
      "[8928 rows x 2 columns]\n"
     ]
    }
   ],
   "source": [
    "#This is the draft #1 for our covid-economics analysis \n",
    "#Data Descriptives\n",
    "import pandas\n",
    "df = pandas.read_csv('~/Desktop/covid-economics/datasets/data_crudeoil_daily_1986-2020.csv')\n",
    "print(df)"
   ]
  }
 ],
 "metadata": {
  "kernelspec": {
   "display_name": "Python 3",
   "language": "python",
   "name": "python3"
  },
  "language_info": {
   "codemirror_mode": {
    "name": "ipython",
    "version": 3
   },
   "file_extension": ".py",
   "mimetype": "text/x-python",
   "name": "python",
   "nbconvert_exporter": "python",
   "pygments_lexer": "ipython3",
   "version": "3.7.4"
  }
 },
 "nbformat": 4,
 "nbformat_minor": 2
}
